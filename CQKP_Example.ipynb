{
  "nbformat": 4,
  "nbformat_minor": 0,
  "metadata": {
    "colab": {
      "name": "CQKP EXAMPLE USAGE",
      "provenance": [],
      "collapsed_sections": []
    },
    "kernelspec": {
      "name": "python3",
      "display_name": "Python 3"
    },
    "language_info": {
      "name": "python"
    }
  },
  "cells": [
    {
      "cell_type": "markdown",
      "source": [
        "[![Open in Colab](https://colab.research.google.com/assets/colab-badge.svg)](https://colab.research.google.com/github/aicrumb/CQKP/blob/master/CQKP_Example.ipynb)"
      ],
      "metadata": {
        "id": "OKiQQPxMC8SO"
      }
    },
    {
      "cell_type": "code",
      "execution_count": 1,
      "metadata": {
        "id": "ZAoDvenw-n9R"
      },
      "outputs": [],
      "source": [
        "!pip install git+https://github.com/aicrumb/CQKP\n",
        "from google.colab import output\n",
        "output.clear() # we just do this so the notebook looks cleaner"
      ]
    },
    {
      "cell_type": "code",
      "source": [
        "import cqkp\n",
        "model = cqkp.load_model()\n",
        "output.clear()  # same here, just cleaning up"
      ],
      "metadata": {
        "id": "gfsMXVVDEn_o"
      },
      "execution_count": 2,
      "outputs": []
    },
    {
      "cell_type": "code",
      "source": [
        "question = \"what is a cow?\"\n",
        "answers = [\n",
        "    \"Cattle are large domesticated bovines. They are most widespread species of the genus Bos. \",\n",
        "    \"Cows eat grass and hay. On a dry matter basis a cow will eat 4 to 5 tons of forage per year.\"\n",
        "]\n",
        "print(model.best_answer(question, answers)[0])"
      ],
      "metadata": {
        "colab": {
          "base_uri": "https://localhost:8080/"
        },
        "id": "KsbYhoEw-3Oo",
        "outputId": "ac13cc75-66b1-457d-9995-5f08a099043e"
      },
      "execution_count": 3,
      "outputs": [
        {
          "output_type": "stream",
          "name": "stdout",
          "text": [
            "Cattle are large domesticated bovines. They are most widespread species of the genus Bos. \n"
          ]
        }
      ]
    },
    {
      "cell_type": "code",
      "source": [
        "answer = \"Cattle are large domesticated bovines. They are most widespread species of the genus Bos.\"\n",
        "questions = [\n",
        "    \"what are pigs\",\n",
        "    \"what are cows\"\n",
        "]\n",
        "print(model.best_question(questions, answer)[0])"
      ],
      "metadata": {
        "colab": {
          "base_uri": "https://localhost:8080/"
        },
        "id": "4gYD7lM-BTG4",
        "outputId": "bc43ae3f-687a-464e-8289-a14c4cfd1253"
      },
      "execution_count": 4,
      "outputs": [
        {
          "output_type": "stream",
          "name": "stdout",
          "text": [
            "what are cows\n"
          ]
        }
      ]
    },
    {
      "cell_type": "code",
      "source": [
        "# to get just encodings, it requires both to be met though\n",
        "# \"advanced\" example, comparing questions similarity to eachother\n",
        "# using the \"answers\" this can be done the same to compare semantic distance between articles abstracts to give suggested reading\n",
        "\n",
        "questions = model.tokenize([\"what is a pig\", \"what is a farm animal\", \"what is a wild boar\"])\n",
        "answers = model.tokenize([\"\"])\n",
        "\n",
        "embeddings = model.score(questions, answers)\n",
        "pig_question = embeddings[0][0]\n",
        "farm_question = embeddings[0][1]\n",
        "boar_question = embeddings[0][2]\n",
        "\n",
        "# just multiplying by 100 so it's easier to see the numbers difference\n",
        "print(\"farm animal distance to pig\", (pig_question-farm_question).pow(2).mean().item()*100)\n",
        "print(\"pig distance to boar\", (pig_question-boar_question).pow(2).mean().item()*100)\n",
        "print(\"farm animal distance to boar\", (farm_question-boar_question).pow(2).mean().item()*100)\n",
        "# expectation: farm animal is further from boar than pig is"
      ],
      "metadata": {
        "id": "pIRAU1RrJsHu",
        "outputId": "d94c024b-6fe3-4d1b-e055-d42cf9b48dac",
        "colab": {
          "base_uri": "https://localhost:8080/"
        }
      },
      "execution_count": 23,
      "outputs": [
        {
          "output_type": "stream",
          "name": "stdout",
          "text": [
            "farm animal distance to pig 1.7529353499412537\n",
            "pig distance to boar 1.805000752210617\n",
            "farm animal distance to boar 2.1265067160129547\n"
          ]
        }
      ]
    }
  ]
}