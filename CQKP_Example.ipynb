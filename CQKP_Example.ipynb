{
  "nbformat": 4,
  "nbformat_minor": 0,
  "metadata": {
    "colab": {
      "name": "CQKP EXAMPLE USAGE",
      "provenance": []
    },
    "kernelspec": {
      "name": "python3",
      "display_name": "Python 3"
    },
    "language_info": {
      "name": "python"
    }
  },
  "cells": [
    {
      "cell_type": "markdown",
      "source": [
        "[![Open in Colab](https://colab.research.google.com/assets/colab-badge.svg)](https://colab.research.google.com/github/aicrumb/CQKP/blob/master/CQKP_Example.ipynb)"
      ],
      "metadata": {
        "id": "OKiQQPxMC8SO"
      }
    },
    {
      "cell_type": "code",
      "execution_count": null,
      "metadata": {
        "id": "ZAoDvenw-n9R"
      },
      "outputs": [],
      "source": [
        "!pip install git+https://github.com/aicrumb/CQKP\n",
        "from google.colab import output\n",
        "output.clear()"
      ]
    },
    {
      "cell_type": "code",
      "source": [
        "import cqkp\n",
        "model = cqkp.load_model()\n",
        "output.clear()\n",
        "\n",
        "question = \"what is a bird?\"\n",
        "answers = [\n",
        "    \"birds are warm-blooded vertebrates\",\n",
        "    \"birds eat worms\"\n",
        "]\n",
        "model.best_answer(question, answers)[0]"
      ],
      "metadata": {
        "colab": {
          "base_uri": "https://localhost:8080/",
          "height": 35
        },
        "id": "KsbYhoEw-3Oo",
        "outputId": "e88155c7-1423-4c06-b6eb-557f0bf37461"
      },
      "execution_count": null,
      "outputs": [
        {
          "output_type": "execute_result",
          "data": {
            "text/plain": [
              "'birds are warm-blooded vertebrates'"
            ],
            "application/vnd.google.colaboratory.intrinsic+json": {
              "type": "string"
            }
          },
          "metadata": {},
          "execution_count": 29
        }
      ]
    },
    {
      "cell_type": "code",
      "source": [
        "# this is not the intended use but may sometimes work (emphases on sometimes)\n",
        "answer = \"they have wings and build nests.\"\n",
        "questions = [\n",
        "    \"what are birds\",\n",
        "    \"what are cows\"\n",
        "]\n",
        "model.best_question(questions, answer)[0]"
      ],
      "metadata": {
        "colab": {
          "base_uri": "https://localhost:8080/",
          "height": 35
        },
        "id": "4gYD7lM-BTG4",
        "outputId": "6b9c64de-e63c-4494-a27f-e5fd5eb19cf1"
      },
      "execution_count": null,
      "outputs": [
        {
          "output_type": "execute_result",
          "data": {
            "text/plain": [
              "'what are birds'"
            ],
            "application/vnd.google.colaboratory.intrinsic+json": {
              "type": "string"
            }
          },
          "metadata": {},
          "execution_count": 30
        }
      ]
    }
  ]
}