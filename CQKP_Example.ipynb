{
  "nbformat": 4,
  "nbformat_minor": 0,
  "metadata": {
    "colab": {
      "name": "CQKP EXAMPLE USAGE",
      "provenance": [],
      "collapsed_sections": []
    },
    "kernelspec": {
      "name": "python3",
      "display_name": "Python 3"
    },
    "language_info": {
      "name": "python"
    }
  },
  "cells": [
    {
      "cell_type": "markdown",
      "source": [
        "[![Open in Colab](https://colab.research.google.com/assets/colab-badge.svg)](https://colab.research.google.com/github/aicrumb/CQKP/blob/master/CQKP_Example.ipynb)"
      ],
      "metadata": {
        "id": "OKiQQPxMC8SO"
      }
    },
    {
      "cell_type": "code",
      "execution_count": 1,
      "metadata": {
        "id": "ZAoDvenw-n9R"
      },
      "outputs": [],
      "source": [
        "!pip install git+https://github.com/aicrumb/CQKP\n",
        "from google.colab import output\n",
        "output.clear() # we just do this so the notebook looks cleaner"
      ]
    },
    {
      "cell_type": "code",
      "source": [
        "import cqkp\n",
        "model = cqkp.load_model()\n",
        "output.clear()  # same here, just cleaning up"
      ],
      "metadata": {
        "id": "gfsMXVVDEn_o"
      },
      "execution_count": 2,
      "outputs": []
    },
    {
      "cell_type": "code",
      "source": [
        "question = \"what is a cow?\"\n",
        "answers = [\n",
        "    \"Cattle are large domesticated bovines. They are most widespread species of the genus Bos. \",\n",
        "    \"Cows eat grass and hay. On a dry matter basis a cow will eat 4 to 5 tons of forage per year.\"\n",
        "]\n",
        "print(model.best_answer(question, answers)[0])"
      ],
      "metadata": {
        "colab": {
          "base_uri": "https://localhost:8080/"
        },
        "id": "KsbYhoEw-3Oo",
        "outputId": "00b9a0cf-9a17-43a8-a002-c952290a718a"
      },
      "execution_count": 7,
      "outputs": [
        {
          "output_type": "stream",
          "name": "stdout",
          "text": [
            "Cattle are large domesticated bovines. They are most widespread species of the genus Bos. \n"
          ]
        }
      ]
    },
    {
      "cell_type": "code",
      "source": [
        "answer = \"Cattle are large domesticated bovines. They are most widespread species of the genus Bos.\"\n",
        "questions = [\n",
        "    \"what are pigs\",\n",
        "    \"what are cows\"\n",
        "]\n",
        "print(model.best_question(questions, answer)[0])"
      ],
      "metadata": {
        "colab": {
          "base_uri": "https://localhost:8080/"
        },
        "id": "4gYD7lM-BTG4",
        "outputId": "1768ee60-02a6-4bfd-e745-dbf4954edb26"
      },
      "execution_count": 11,
      "outputs": [
        {
          "output_type": "stream",
          "name": "stdout",
          "text": [
            "what are cows\n"
          ]
        }
      ]
    }
  ]
}