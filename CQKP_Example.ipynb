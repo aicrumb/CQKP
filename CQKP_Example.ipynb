{
  "nbformat": 4,
  "nbformat_minor": 0,
  "metadata": {
    "colab": {
      "name": "CQKP EXAMPLE USAGE",
      "provenance": [],
      "collapsed_sections": []
    },
    "kernelspec": {
      "name": "python3",
      "display_name": "Python 3"
    },
    "language_info": {
      "name": "python"
    }
  },
  "cells": [
    {
      "cell_type": "markdown",
      "source": [
        "[![Open in Colab](https://colab.research.google.com/assets/colab-badge.svg)](https://colab.research.google.com/github/aicrumb/CQKP/blob/master/CQKP_Example.ipynb)"
      ],
      "metadata": {
        "id": "OKiQQPxMC8SO"
      }
    },
    {
      "cell_type": "code",
      "execution_count": 1,
      "metadata": {
        "id": "ZAoDvenw-n9R"
      },
      "outputs": [],
      "source": [
        "!pip install git+https://github.com/aicrumb/CQKP\n",
        "from google.colab import output\n",
        "output.clear() # we just do this so the notebook looks cleaner"
      ]
    },
    {
      "cell_type": "code",
      "source": [
        "import cqkp\n",
        "model = cqkp.load_model()\n",
        "output.clear()  # same here, just cleaning up"
      ],
      "metadata": {
        "id": "gfsMXVVDEn_o"
      },
      "execution_count": 2,
      "outputs": []
    },
    {
      "cell_type": "code",
      "source": [
        "question = \"what is a cow?\"\n",
        "answers = [\n",
        "    \"Cattle are large domesticated bovines. They are most widespread species of the genus Bos. \",\n",
        "    \"Cows eat grass and hay. On a dry matter basis a cow will eat 4 to 5 tons of forage per year.\"\n",
        "]\n",
        "print(model.best_answer(question, answers)[0])"
      ],
      "metadata": {
        "colab": {
          "base_uri": "https://localhost:8080/"
        },
        "id": "KsbYhoEw-3Oo",
        "outputId": "2a60a025-c17d-4242-b256-cf829f371c0b"
      },
      "execution_count": 3,
      "outputs": [
        {
          "output_type": "stream",
          "name": "stdout",
          "text": [
            "Cattle are large domesticated bovines. They are most widespread species of the genus Bos. \n"
          ]
        }
      ]
    },
    {
      "cell_type": "code",
      "source": [
        "answer = \"Cattle are large domesticated bovines. They are most widespread species of the genus Bos.\"\n",
        "questions = [\n",
        "    \"what are pigs\",\n",
        "    \"what are cows\"\n",
        "]\n",
        "print(model.best_question(questions, answer)[0])"
      ],
      "metadata": {
        "colab": {
          "base_uri": "https://localhost:8080/"
        },
        "id": "4gYD7lM-BTG4",
        "outputId": "c42da65e-addd-46ce-9975-e68478f19f93"
      },
      "execution_count": 4,
      "outputs": [
        {
          "output_type": "stream",
          "name": "stdout",
          "text": [
            "what are cows\n"
          ]
        }
      ]
    },
    {
      "cell_type": "code",
      "source": [
        "# to get just encodings, it requires both to be met though\n",
        "questions = model.tokenize([\"what is a duck\"])\n",
        "answers = model.tokenize([\"\"])\n",
        "\n",
        "# index zero is the questions, index 1 is the answers\n",
        "encoding = model.score(questions,answers)[0]\n",
        "\n",
        "# the shape of the encoding, showing it's a 1024 dim vector\n",
        "print(encoding.shape)\n",
        "\n",
        "# if you just want to use this as a universal sentence encoder, i'd use the answers part of the model as it's built for long form text"
      ],
      "metadata": {
        "colab": {
          "base_uri": "https://localhost:8080/"
        },
        "id": "a_kRIA-WHBoC",
        "outputId": "a2003cea-4e27-4721-9d12-8fa20a6052ef"
      },
      "execution_count": 5,
      "outputs": [
        {
          "output_type": "stream",
          "name": "stdout",
          "text": [
            "torch.Size([1, 1024])\n"
          ]
        }
      ]
    }
  ]
}